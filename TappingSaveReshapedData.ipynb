{
 "cells": [
  {
   "cell_type": "markdown",
   "metadata": {},
   "source": [
    "## FINGER TAPPING ANALYSIS\n",
    "##### Data collected from patients with neurodegenerative disorders as well as healthy controls"
   ]
  },
  {
   "cell_type": "code",
   "execution_count": 1,
   "metadata": {},
   "outputs": [
    {
     "name": "stderr",
     "output_type": "stream",
     "text": [
      "C:\\Users\\Korisnik\\Anaconda3\\lib\\site-packages\\h5py\\__init__.py:36: FutureWarning: Conversion of the second argument of issubdtype from `float` to `np.floating` is deprecated. In future, it will be treated as `np.float64 == np.dtype(float).type`.\n",
      "  from ._conv import register_converters as _register_converters\n",
      "Using TensorFlow backend.\n"
     ]
    }
   ],
   "source": [
    "import matplotlib.pyplot as plt\n",
    "import numpy as np\n",
    "import scipy.io\n",
    "import time\n",
    "import sys\n",
    "from tqdm import tqdm\n",
    "import os\n",
    "import pandas as pd\n",
    "import seaborn as sns\n",
    "sns.set(style=\"darkgrid\")\n",
    "import statsmodels.api as sm\n",
    "from statsmodels.formula.api import ols\n",
    "from scipy import stats\n",
    "import math\n",
    "from statsmodels.sandbox.stats.multicomp import multipletests\n",
    "from sklearn.preprocessing import LabelEncoder\n",
    "from sklearn.model_selection import train_test_split\n",
    "from sklearn.metrics import roc_curve\n",
    "import keras\n",
    "from keras.models import Model\n",
    "from keras.layers import Input, Conv1D, Flatten, Dropout, MaxPooling1D, Dense\n",
    "from keras.layers import Activation, BatchNormalization, concatenate\n",
    "from keras import optimizers\n",
    "from keras.callbacks import ModelCheckpoint, EarlyStopping\n",
    "%matplotlib inline"
   ]
  },
  {
   "cell_type": "markdown",
   "metadata": {},
   "source": [
    "#### Define MEASUREMENT class and stuff"
   ]
  },
  {
   "cell_type": "code",
   "execution_count": 7,
   "metadata": {},
   "outputs": [],
   "source": [
    "#import tensorflow as tf"
   ]
  },
  {
   "cell_type": "code",
   "execution_count": 2,
   "metadata": {},
   "outputs": [],
   "source": [
    "class measurement:\n",
    "    def __init__(self, gyro1x, gyro1y, gyro1z,gyro2x, gyro2y, gyro2z,\n",
    "                 tap_task, time, time_tap, ttapstart, ttapstop, diagnosis,\n",
    "                 initials, date, timeOfMeasurement):\n",
    "        \n",
    "        # acceleration\n",
    "#         self.acc1x = acc1x # thumb\n",
    "#         self.acc1y = acc1y # thumb\n",
    "#         self.acc1z = acc1z # thumb\n",
    "#         self.acc1Vec = np.sqrt(np.square(self.acc1x)+\n",
    "#                                np.square(self.acc1y)+\n",
    "#                                np.square(self.acc1z))\n",
    "        \n",
    "#         self.acc2x = acc2x # forefinger\n",
    "#         self.acc2y = acc2y # forefinger\n",
    "#         self.acc2z = acc2z # forefinger\n",
    "#         self.acc2Vec = np.sqrt(np.square(self.acc2x)+\n",
    "#                                np.square(self.acc2y)+\n",
    "#                                np.square(self.acc2z))\n",
    "        \n",
    "        # force\n",
    "        #self.fsr = fsr\n",
    "                \n",
    "        # angular velocity\n",
    "        self.gyro1x = gyro1x # thumb\n",
    "        self.gyro1y = gyro1y # thumb\n",
    "        self.gyro1z = gyro1z # thumb\n",
    "        self.gyro1Vec = np.sqrt(np.square(self.gyro1x)+\n",
    "                                np.square(self.gyro1y)+\n",
    "                                np.square(self.gyro1z))\n",
    "        \n",
    "        self.gyro2x = gyro2x # forefinger\n",
    "        self.gyro2y = gyro2y # forefinger\n",
    "        self.gyro2z = gyro2z # forefinger\n",
    "        self.gyro2Vec = np.sqrt(np.square(self.gyro2x)+\n",
    "                                np.square(self.gyro2y)+\n",
    "                                np.square(self.gyro2z))        \n",
    "        \n",
    "               \n",
    "        # other\n",
    "        self.tap_task = tap_task # LHEO/LHEC/RHEO/RHEC (left or right hand/eyes open or closed)\n",
    "        self.time = time\n",
    "        self.time_tap = time_tap\n",
    "        self.ttapstart = ttapstart+0.3 #single value, when the actual signal started SECONDS\n",
    "        self.ttapstop = ttapstop-0.3 #single value, when the actual signal stopped SECONDS\n",
    "        self.diagnosis = diagnosis # PD, PSP, MSA, CTRL\n",
    "        self.initials = initials # person name and surname initials \n",
    "        self.date = date # date of recording\n",
    "        self.timeOfMeasurement = timeOfMeasurement #what time that date\n",
    "        self.length = len(gyro1x)\n",
    "        self.tappingLength = self.ttapstop - self.ttapstart\n",
    "        self.fs = 200 # sampling rate [Hz]\n",
    "        #self.mvcSustained = max(self.fsr[0:int(ttapstart*self.fs)])\n",
    "        #self.mvcTapping = max(self.fsr[int(ttapstart*self.fs):int(ttapstop*self.fs)])\n",
    "        #self.mvcTotal = self.mvcTapping if self.mvcTapping>self.mvcSustained else self.mvcSustained\n",
    "        \n",
    "        \n",
    "        #normalize gyro\n",
    "        denominator1 = max(np.max(self.gyro1x[int(ttapstart*self.fs):int(ttapstop*self.fs)]),\n",
    "                           np.max(self.gyro1y[int(ttapstart*self.fs):int(ttapstop*self.fs)]),\n",
    "                           np.max(self.gyro1z[int(ttapstart*self.fs):int(ttapstop*self.fs)]))\n",
    "        \n",
    "        denominator2 = max(np.max(self.gyro2x[int(ttapstart*self.fs):int(ttapstop*self.fs)]),\n",
    "                           np.max(self.gyro2y[int(ttapstart*self.fs):int(ttapstop*self.fs)]),\n",
    "                           np.max(self.gyro2z[int(ttapstart*self.fs):int(ttapstop*self.fs)]))\n",
    "        \n",
    "        self.gyro1x,self.gyro1y,self.gyro1z = self.gyro1x/denominator1,self.gyro1y/denominator1,self.gyro1z/denominator1\n",
    "        self.gyro2x,self.gyro2y,self.gyro2z = self.gyro2x/denominator2,self.gyro2y/denominator2,self.gyro2z/denominator2\n",
    "\n",
    "        \n",
    "        # normalize FSR\n",
    "#         self.normalizedFSR = self.fsr/self.mvcSustained\n",
    "        self.id = self.diagnosis + '_' + self.initials + '_' +self.date \n",
    "        \n",
    "    def packAndCrop(self, seconds):\n",
    "        \n",
    "        # matrix for feeding into a net\n",
    "        # shape: nsignals(13 or 5 probably) x seconds*SamplingRate \n",
    "        \n",
    "\n",
    "        allPacked = np.concatenate(([self.gyro1x],[self.gyro1y],[self.gyro1z],\n",
    "                                    [self.gyro2x],[self.gyro2y],[self.gyro2z]), axis=0) \n",
    "        nRows = allPacked.shape[0]\n",
    "        \n",
    "        allPacked = allPacked[:, int(self.fs*self.ttapstart):int(self.fs*self.ttapstop)]\n",
    "        \n",
    "        crops = []\n",
    "        \n",
    "        modelPackage = np.zeros((nRows,seconds*self.fs),dtype='float16')\n",
    "        fin = allPacked.shape[1] if allPacked.shape[1]<seconds*self.fs else seconds*self.fs\n",
    "        modelPackage[:,:fin] = allPacked[:,:fin]\n",
    "        \n",
    "        crops.append(modelPackage)\n",
    "        \n",
    "        nCrops = int((allPacked.shape[1] - seconds*self.fs)/self.fs)\n",
    "        for i in range(nCrops):\n",
    "            temp = allPacked[:,((i+1)*self.fs):((i+1)*self.fs + seconds*self.fs)]\n",
    "            #temp = np.transpose(temp)\n",
    "            crops.append(temp)\n",
    "            \n",
    "        \n",
    "        return crops\n",
    "       \n",
    "    def sumUp(self):\n",
    "        temp = {'lenGyroThumb': len(self.gyro1x),\n",
    "               'lenGyroForefinger': len(self.gyro2x),\n",
    "               'lenTime': len(self.time)}\n",
    "        temp['MATCHING_LENGTHS'] =  len(set(temp.values()))==1\n",
    "        temp['durationInSecs'] = self.length/self.fs\n",
    "        return temp\n",
    "    \n",
    "    def plotSignals(self, xlim = []):\n",
    "        # Optionally pass a tuple for zooming in on the x axis (xmin,xmax)\n",
    "        if len(xlim) <2:\n",
    "            xlim = (0,self.length/self.fs)\n",
    "            \n",
    "#         # accelerometers     \n",
    "#         plt.figure(figsize=(16,12))\n",
    "# #         plt.plot(self.time,self.acc1x)\n",
    "# #         plt.plot(self.time,self.acc1y)\n",
    "# #         plt.plot(self.time,self.acc1z)\n",
    "# #         plt.plot(self.time,self.acc2x)\n",
    "# #         plt.plot(self.time,self.acc2y)\n",
    "# #         plt.plot(self.time,self.acc2z)\n",
    "#         plt.axvline(x = self.ttapstart,color = 'b')\n",
    "#         plt.axvline(x = self.ttapstop, color = 'r')\n",
    "#         plt.xlim(xlim)\n",
    "#         plt.legend(('AccThumbX', 'AccThumbY', 'AccThumbZ',\n",
    "#                     'AccIndexX', 'AccIndexY', 'AccIndexZ'))\n",
    "#         plt.title('Accelerometers for subject ' + self.initials +\n",
    "#                   ' Date: ' + self.date +\n",
    "#                   ' Diagnosis: ' + self.diagnosis +\n",
    "#                    'Task: ' + self.tap_task)\n",
    "#         plt.show()\n",
    "        \n",
    "#         # vector accelerometer\n",
    "#         plt.figure(figsize=(16,5))\n",
    "#         plt.plot(self.time, self.acc1Vec)\n",
    "#         plt.plot(self.time, self.acc2Vec)\n",
    "#         plt.axvline(x = self.ttapstart,color = 'b')\n",
    "#         plt.axvline(x = self.ttapstop, color = 'r')\n",
    "#         plt.xlim(xlim)\n",
    "#         plt.legend(('AccThumbVector', 'AccIndexVector'))\n",
    "#         plt.title('Accelerometer Vectors')\n",
    "#         plt.show()\n",
    "        \n",
    "        # gyro1\n",
    "        plt.figure(figsize = (16,5))\n",
    "        plt.plot(self.time,self.gyro1x)\n",
    "        plt.plot(self.time,self.gyro1y)\n",
    "        plt.plot(self.time,self.gyro1z)\n",
    "        plt.legend(['GyroThumbX', 'GyroThumbY', 'GyroThumbZ'])\n",
    "        plt.axvline(x = self.ttapstart,color = 'b')\n",
    "        plt.axvline(x = self.ttapstop, color = 'r')\n",
    "        plt.xlim(xlim)\n",
    "        plt.title('Gyro THUMB data')\n",
    "        \n",
    "        # gyro2\n",
    "        plt.figure(figsize = (16,5))\n",
    "        plt.plot(self.time,self.gyro2x)\n",
    "        plt.plot(self.time,self.gyro2y)\n",
    "        plt.plot(self.time,self.gyro2z)\n",
    "        plt.legend(['GyroIndexX', 'GyroIndexY', 'GyroIndexZ'])\n",
    "        plt.axvline(x = self.ttapstart,color = 'b')\n",
    "        plt.axvline(x = self.ttapstop, color = 'r')\n",
    "        plt.xlim(xlim)\n",
    "        plt.title('Gyro INDEX data')\n",
    "        \n",
    "        # vector gyro\n",
    "        plt.figure(figsize=(16,5))\n",
    "        plt.plot(self.time, self.gyro1Vec)\n",
    "        plt.plot(self.time, self.gyro2Vec)\n",
    "        plt.axvline(x = self.ttapstart,color = 'b')\n",
    "        plt.axvline(x = self.ttapstop, color = 'r')\n",
    "        plt.xlim(xlim)\n",
    "        plt.legend(('GyroThumbVector', 'GyroIndexVector'))\n",
    "        plt.title('Gyro Vectors')\n",
    "        plt.show()\n",
    "        \n",
    "#         # force\n",
    "#         plt.figure(figsize=(16,5))\n",
    "#         plt.plot(self.time,self.normalizedFSR)\n",
    "#         plt.xlim(xlim)\n",
    "#         plt.axvline(x = self.ttapstart,color = 'b')\n",
    "#         plt.axvline(x = self.ttapstop, color = 'r')\n",
    "#         plt.title('Normalized FSR')\n",
    "#         plt.show()\n",
    "    \n",
    "\n",
    "        \n",
    "        \n",
    "    "
   ]
  },
  {
   "cell_type": "code",
   "execution_count": 3,
   "metadata": {},
   "outputs": [],
   "source": [
    "def readAdjust(root, directory, file):\n",
    "    \n",
    "    sig = scipy.io.loadmat(root + directory + '/' + file)\n",
    "    \n",
    "    temp = measurement(sig['gyro1'][0],\n",
    "                       sig['gyro1'][1],\n",
    "                       sig['gyro1'][2],\n",
    "                       sig['gyro2'][0],\n",
    "                       sig['gyro2'][1],\n",
    "                       sig['gyro2'][2],\n",
    "                       sig['tap_task'][0], \n",
    "                       sig['time'][0],\n",
    "                       sig['time_tap'][0],\n",
    "                       sig['ttapstart'][0,0], \n",
    "                       sig['ttapstop'][0,0], \n",
    "                       directory,\n",
    "                       file[0:2], \n",
    "                       file[3:13],\n",
    "                       file[14:22])\n",
    "                           \n",
    "    return temp\n",
    "    "
   ]
  },
  {
   "cell_type": "markdown",
   "metadata": {},
   "source": [
    "#### READ THE DATA"
   ]
  },
  {
   "cell_type": "code",
   "execution_count": 4,
   "metadata": {},
   "outputs": [
    {
     "name": "stderr",
     "output_type": "stream",
     "text": [
      "100%|██████████| 4/4 [00:06<00:00,  1.69s/it]\n"
     ]
    }
   ],
   "source": [
    "root = 'C:/Users/Korisnik/Desktop/Minjino/Tapping/Tapping raw data/'\n",
    "_,dirs,_ = os.walk(root).__next__()\n",
    "\n",
    "sigs = []\n",
    "for d in tqdm(dirs):\n",
    "    _,_,files = os.walk(root+d).__next__()\n",
    "    sigs = sigs +[readAdjust(root, d, file) for file in files]\n",
    "    \n",
    "    "
   ]
  },
  {
   "cell_type": "markdown",
   "metadata": {},
   "source": [
    "##### Check if everything's okay."
   ]
  },
  {
   "cell_type": "code",
   "execution_count": null,
   "metadata": {},
   "outputs": [],
   "source": [
    "#### NEEDN'T RUN #####\n",
    "\n",
    "sigs[12].sumUp()\n",
    "print('INFO:')\n",
    "print('There are a total of {} files'.format(len(sigs)))\n",
    "\n",
    "temp = [s.sumUp()['MATCHING_LENGTHS'] for s in sigs]\n",
    "if len(set(temp))==1:\n",
    "    print('All signals contain gyro and fsr data of the same length')\n",
    "else:\n",
    "    print('Some files contain data of unequal lengths')\n",
    "\n",
    "    \n",
    "sigs[8].plotSignals([0,10])"
   ]
  },
  {
   "cell_type": "markdown",
   "metadata": {},
   "source": [
    "\n",
    "## Repack for input to a network"
   ]
  },
  {
   "cell_type": "code",
   "execution_count": 5,
   "metadata": {},
   "outputs": [
    {
     "name": "stdout",
     "output_type": "stream",
     "text": [
      "Shortest length: 7.25s, found for signal number 86 \n"
     ]
    }
   ],
   "source": [
    "# Minimal length of signals?\n",
    "\n",
    "m = 10000\n",
    "i = 1\n",
    "for ix,sig in enumerate(sigs):\n",
    "    if sig.tappingLength < m:\n",
    "        m = sig.tappingLength\n",
    "        i = ix\n",
    "        \n",
    "# The shortest signal is sigs[86], corresponding to a CTRL, rhec. Lasts a total of 12s, and 7.25s of active tapping.\n",
    "# Going to remove those with active signal <10s...maybe\n",
    "print('Shortest length: {}s, found for signal number {} '.format(m,i))\n"
   ]
  },
  {
   "cell_type": "code",
   "execution_count": 6,
   "metadata": {},
   "outputs": [],
   "source": [
    "def encodeDiagnosis(diagnosis):\n",
    "    le = LabelEncoder()\n",
    "    le.fit(['CTRL','MSA','PD','PSP'])\n",
    "    # This is the encoding:\n",
    "    # CTRL -----> 0 -----> [1,0,0,0]\n",
    "    # MSA ----->  1 -----> [0,1,0,0]\n",
    "    # PD -----> 2 -----> [0,0,1,0]\n",
    "    # PSP -----> 3 -----> [0,0,0,1]\n",
    "    \n",
    "    diagnosis = le.transform([diagnosis])\n",
    "    oneHotDiagnosis = np.zeros((1,4),dtype='uint8')\n",
    "    idx = diagnosis[0]\n",
    "    oneHotDiagnosis[0][idx] = 1\n",
    "    return oneHotDiagnosis[0]\n",
    "\n",
    "  \n",
    "    "
   ]
  },
  {
   "cell_type": "code",
   "execution_count": 7,
   "metadata": {},
   "outputs": [],
   "source": [
    "# Distribution of classes?\n",
    "def classDistribution(sigs):\n",
    "    diagnoses = [sig.diagnosis for sig in sigs]\n",
    "    CTRL = np.sum([d =='CTRL' for d in diagnoses])\n",
    "    PD = np.sum([d =='PD' for d in diagnoses])\n",
    "    PSP = np.sum([d =='PSP' for d in diagnoses])\n",
    "    MSA = np.sum([d =='MSA' for d in diagnoses])\n",
    "\n",
    "    print('There are {} CTRL subjects, {} MSA, {} PD and {} PSP'. format(CTRL, MSA, PD, PSP))\n",
    "\n",
    "    plt.bar(['CTRL','MSA','PD','PSP'],[CTRL,MSA,PD,PSP])\n",
    "    plt.title('Number of signals recorded by diagnosis')\n",
    "    plt.show()\n",
    "    return {'CTRL':CTRL,'MSA':MSA,'PD':PD,'PSP':PSP}"
   ]
  },
  {
   "cell_type": "code",
   "execution_count": 8,
   "metadata": {},
   "outputs": [
    {
     "name": "stdout",
     "output_type": "stream",
     "text": [
      "There are 108 CTRL subjects, 161 MSA, 135 PD and 167 PSP\n"
     ]
    },
    {
     "data": {
      "image/png": "[encoded data removed]",
      "text/plain": [
       "<Figure size 432x288 with 1 Axes>"
      ]
     },
     "metadata": {},
     "output_type": "display_data"
    }
   ],
   "source": [
    "d = classDistribution(sigs)"
   ]
  },
  {
   "cell_type": "code",
   "execution_count": 9,
   "metadata": {},
   "outputs": [],
   "source": [
    "CTRLind = [i for i,sig in enumerate(sigs) if sig.diagnosis == 'CTRL']\n",
    "MSAind = [i for i,sig in enumerate(sigs) if sig.diagnosis == 'MSA']\n",
    "PDind = [i for i,sig in enumerate(sigs) if sig.diagnosis == 'PD']\n",
    "PSPind = [i for i,sig in enumerate(sigs) if sig.diagnosis == 'PSP']\n",
    "\n",
    "inds = [[CTRLind], [MSAind],[PDind],[PSPind]]\n",
    "\n",
    "\n"
   ]
  },
  {
   "cell_type": "code",
   "execution_count": 10,
   "metadata": {},
   "outputs": [],
   "source": [
    "def splitOneDiagnosis(DIAGind, trainPercent, testPercent):\n",
    "    trainInd = np.random.choice(DIAGind,round(trainPercent*len(DIAGind)),replace = False)\n",
    "    Xtrain =  [sigs[i] for i in trainInd]\n",
    "    leftover = [i for i in DIAGind if i not in trainInd]\n",
    "    \n",
    "    testInd = np.random.choice(leftover,round(testPercent*len(DIAGind)), replace = False)\n",
    "    Xtest = [sigs[i] for i in testInd]\n",
    "    leftover = [i for i in leftover if i not in testInd]\n",
    "    \n",
    "    Xval = [sigs[i] for i in leftover]\n",
    "    \n",
    "    return Xtrain, Xtest, Xval"
   ]
  },
  {
   "cell_type": "code",
   "execution_count": 11,
   "metadata": {},
   "outputs": [],
   "source": [
    "# Split into train, test, val sets\n",
    "\n",
    "# Xtrain, Xtest, Ytrain, Ytest = train_test_split(X,Y,test_size=0.3, random_state=1)\n",
    "# Xtest, Xval, Ytest, Yval = train_test_split(Xtest, Ytest, test_size = 0.2, random_state =1)\n",
    "\n",
    "trainPercent = 0.7\n",
    "testPercent = 0.2\n",
    "#valPercent = 0.1\n",
    "\n",
    "np.random.seed(123)\n",
    "dataTrain =[]\n",
    "dataTest = []\n",
    "dataVal = []\n",
    "\n",
    "for DIAGind in inds:\n",
    "    diagTrain, diagTest, diagVal = splitOneDiagnosis(DIAGind[0],trainPercent,testPercent) \n",
    "    dataTrain = dataTrain + diagTrain\n",
    "    dataTest = dataTest + diagTest\n",
    "    dataVal = dataVal + diagVal\n",
    "\n"
   ]
  },
  {
   "cell_type": "code",
   "execution_count": 12,
   "metadata": {},
   "outputs": [
    {
     "name": "stdout",
     "output_type": "stream",
     "text": [
      "400 114 57\n",
      "There are 76 CTRL subjects, 113 MSA, 94 PD and 117 PSP\n"
     ]
    },
    {
     "data": {
      "image/png": "[encoded data removed]",
      "text/plain": [
       "<Figure size 432x288 with 1 Axes>"
      ]
     },
     "metadata": {},
     "output_type": "display_data"
    },
    {
     "name": "stdout",
     "output_type": "stream",
     "text": [
      "There are 22 CTRL subjects, 32 MSA, 27 PD and 33 PSP\n"
     ]
    },
    {
     "data": {
      "image/png": "[encoded data removed]",
      "text/plain": [
       "<Figure size 432x288 with 1 Axes>"
      ]
     },
     "metadata": {},
     "output_type": "display_data"
    },
    {
     "name": "stdout",
     "output_type": "stream",
     "text": [
      "There are 10 CTRL subjects, 16 MSA, 14 PD and 17 PSP\n"
     ]
    },
    {
     "data": {
      "image/png": "[encoded data removed]",
      "text/plain": [
       "<Figure size 432x288 with 1 Axes>"
      ]
     },
     "metadata": {},
     "output_type": "display_data"
    },
    {
     "data": {
      "text/plain": [
       "{'CTRL': 10, 'MSA': 16, 'PD': 14, 'PSP': 17}"
      ]
     },
     "execution_count": 12,
     "metadata": {},
     "output_type": "execute_result"
    }
   ],
   "source": [
    "print(len(dataTrain), len(dataTest), len(dataVal))\n",
    "classDistribution(dataTrain)\n",
    "classDistribution(dataTest)\n",
    "classDistribution(dataVal)"
   ]
  },
  {
   "cell_type": "code",
   "execution_count": 13,
   "metadata": {},
   "outputs": [],
   "source": [
    "# reshape data\n",
    "\n",
    "def cropAndReshape(signals, nSeconds):\n",
    "    #tic = time.time()\n",
    "    X = []  # signals\n",
    "    Y = []  # diagnoses\n",
    "    for sig in tqdm(signals):\n",
    "        crops = sig.packAndCrop(nSeconds)\n",
    "        X = X + crops\n",
    "        for i in range(0,len(crops)):\n",
    "            Y.append(encodeDiagnosis(sig.diagnosis))\n",
    "        \n",
    "    Y = np.reshape(Y,(len(Y),4))\n",
    "    X = np.reshape(X, (len(X),X[0].shape[0],X[0].shape[1]))\n",
    "    X = np.swapaxes(X,1,2)\n",
    "    print('Shape of X: ', X.shape)\n",
    "    #toc = time.time()\n",
    "    #print('Finished this operation in {} s'.format(toc-tic))\n",
    "    return X,Y"
   ]
  },
  {
   "cell_type": "code",
   "execution_count": 14,
   "metadata": {},
   "outputs": [
    {
     "name": "stderr",
     "output_type": "stream",
     "text": [
      "100%|██████████| 400/400 [00:00<00:00, 1743.58it/s]\n"
     ]
    },
    {
     "name": "stdout",
     "output_type": "stream",
     "text": [
      "Shape of X:  (2719, 2000, 6)\n"
     ]
    },
    {
     "name": "stderr",
     "output_type": "stream",
     "text": [
      "100%|██████████| 114/114 [00:00<00:00, 1587.59it/s]\n"
     ]
    },
    {
     "name": "stdout",
     "output_type": "stream",
     "text": [
      "Shape of X:  (738, 2000, 6)\n"
     ]
    },
    {
     "name": "stderr",
     "output_type": "stream",
     "text": [
      "100%|██████████| 57/57 [00:00<00:00, 1679.31it/s]\n"
     ]
    },
    {
     "name": "stdout",
     "output_type": "stream",
     "text": [
      "Shape of X:  (375, 2000, 6)\n"
     ]
    }
   ],
   "source": [
    "nSeconds = 10\n",
    "Xtrain, Ytrain = cropAndReshape(dataTrain,nSeconds)\n",
    "Xtest, Ytest = cropAndReshape(dataTest,nSeconds)\n",
    "Xval, Yval = cropAndReshape(dataVal,nSeconds)"
   ]
  },
  {
   "cell_type": "code",
   "execution_count": 24,
   "metadata": {},
   "outputs": [],
   "source": [
    "############### SAVING MIGHT OVERWRITE YOUR EXISTING FILES ################\n",
    "\n",
    "scipy.io.savemat('TrainData.mat', {'X': Xtrain, 'Y': Ytrain})\n",
    "scipy.io.savemat('TestData.mat', {'X': Xtest, 'Y': Ytest})\n",
    "scipy.io.savemat('ValData.mat', {'X': Xval, 'Y': Yval})\n"
   ]
  },
  {
   "cell_type": "code",
   "execution_count": 23,
   "metadata": {},
   "outputs": [],
   "source": [
    "# data = scipy.io.loadmat('TrainData.mat')\n",
    "# data.keys()"
   ]
  },
  {
   "cell_type": "code",
   "execution_count": null,
   "metadata": {},
   "outputs": [],
   "source": []
  }
 ],
 "metadata": {
  "kernelspec": {
   "display_name": "Python 3",
   "language": "python",
   "name": "python3"
  },
  "language_info": {
   "codemirror_mode": {
    "name": "ipython",
    "version": 3
   },
   "file_extension": ".py",
   "mimetype": "text/x-python",
   "name": "python",
   "nbconvert_exporter": "python",
   "pygments_lexer": "ipython3",
   "version": "3.6.5"
  }
 },
 "nbformat": 4,
 "nbformat_minor": 2
}
