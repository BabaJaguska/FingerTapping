{
 "cells": [
  {
   "cell_type": "markdown",
   "metadata": {},
   "source": [
    "## FINGER TAPPING ANALYSIS\n",
    "##### Data collected from patients with neurodegenerative disorders as well as healthy controls"
   ]
  },
  {
   "cell_type": "code",
   "execution_count": 1,
   "metadata": {},
   "outputs": [
    {
     "name": "stderr",
     "output_type": "stream",
     "text": [
      "C:\\Users\\Korisnik\\Anaconda3\\lib\\site-packages\\h5py\\__init__.py:36: FutureWarning: Conversion of the second argument of issubdtype from `float` to `np.floating` is deprecated. In future, it will be treated as `np.float64 == np.dtype(float).type`.\n",
      "  from ._conv import register_converters as _register_converters\n",
      "Using TensorFlow backend.\n"
     ]
    }
   ],
   "source": [
    "import matplotlib.pyplot as plt\n",
    "import numpy as np\n",
    "import scipy.io\n",
    "import time\n",
    "import sys\n",
    "from tqdm import tqdm\n",
    "import os\n",
    "import pandas as pd\n",
    "import seaborn as sns\n",
    "import itertools\n",
    "import statsmodels.api as sm\n",
    "from statsmodels.formula.api import ols\n",
    "from scipy import stats\n",
    "import math\n",
    "from statsmodels.sandbox.stats.multicomp import multipletests\n",
    "from sklearn.preprocessing import LabelEncoder\n",
    "from sklearn.model_selection import train_test_split\n",
    "from sklearn.metrics import confusion_matrix\n",
    "import keras\n",
    "from keras.models import Model, load_model\n",
    "from keras.layers import Input, Conv1D, Flatten, Dropout, MaxPooling1D, Dense\n",
    "from keras.layers import Activation, BatchNormalization, concatenate\n",
    "from keras import optimizers\n",
    "from keras.callbacks import ModelCheckpoint, EarlyStopping\n",
    "%matplotlib inline"
   ]
  },
  {
   "cell_type": "code",
   "execution_count": 2,
   "metadata": {},
   "outputs": [],
   "source": [
    "# Read the data\n",
    "path = 'C:/Users/Korisnik/Desktop/Minjino/TAPPING/'\n",
    "# test = scipy.io.loadmat(path + 'TestDataSingleCrop.mat')\n",
    "\n",
    "test = scipy.io.loadmat(path + 'ValData.mat')\n",
    "Xtest, Ytest = test['X'], test['Y']"
   ]
  },
  {
   "cell_type": "code",
   "execution_count": 3,
   "metadata": {},
   "outputs": [
    {
     "data": {
      "text/plain": [
       "((375, 2000, 6), (375, 4))"
      ]
     },
     "execution_count": 3,
     "metadata": {},
     "output_type": "execute_result"
    }
   ],
   "source": [
    "Xtest.shape, Ytest.shape"
   ]
  },
  {
   "cell_type": "markdown",
   "metadata": {},
   "source": [
    "### Model load"
   ]
  },
  {
   "cell_type": "code",
   "execution_count": 4,
   "metadata": {},
   "outputs": [],
   "source": [
    "model = load_model(path + 'my_model.h5')\n",
    "#model.summary()"
   ]
  },
  {
   "cell_type": "code",
   "execution_count": 5,
   "metadata": {},
   "outputs": [],
   "source": [
    "def predictSignal(signalX, signalY, model, verbose = 1):\n",
    "    signalX = np.expand_dims(signalX,axis=0)\n",
    "    prediction = model.predict(signalX)\n",
    "    prediction = prediction[0]\n",
    "    prediction = np.round(np.float64(prediction),2)\n",
    "    \n",
    "    d = {0: 'CTRL',\n",
    "        1: 'MSA',\n",
    "        2: 'PD',\n",
    "        3: 'PSP'}\n",
    "    \n",
    "    \n",
    "\n",
    "    actualDiagnosis = d[np.argmax(signalY)]\n",
    "    predictedDiagnosis = d[np.argmax(prediction)]\n",
    "    \n",
    "    if verbose:\n",
    "        print('predictedDiagnosis: ',predictedDiagnosis)\n",
    "        print('actualDiagnosis: ', actualDiagnosis)\n",
    "        print('Certainty: \\nCTRL: {} \\nMSA: {} \\nPD: {} \\nPSP: {}'.format(prediction[0],\n",
    "                                                                      prediction[1],\n",
    "                                                                      prediction[2],\n",
    "                                                                      prediction[3]))\n",
    "        print('#################################################')\n",
    "   \n",
    "    \n",
    "    return {\"Predicted\": predictedDiagnosis, \"Actual\": actualDiagnosis}"
   ]
  },
  {
   "cell_type": "code",
   "execution_count": 18,
   "metadata": {},
   "outputs": [],
   "source": [
    "def confuseMat(Xtest, Ytest,model):\n",
    "    p, a = [], []\n",
    "    for X,Y in zip(Xtest,Ytest):\n",
    "        temp = predictSignal(X,Y,model,verbose=0)\n",
    "        p.append(temp['Predicted'])\n",
    "        a.append(temp['Actual'])\n",
    "    confMat = confusion_matrix(p,a)\n",
    "    confMat = confMat.astype('float')/confMat.sum(axis=1)\n",
    "    return confMat\n",
    "    "
   ]
  },
  {
   "cell_type": "code",
   "execution_count": 40,
   "metadata": {},
   "outputs": [],
   "source": [
    "def plotConfMat(cm):\n",
    "    plt.figure(figsize = (10,10))\n",
    "    plt.imshow(cm)\n",
    "    plt.colorbar()\n",
    "    for i,j in itertools.product(range(4),range(4)):\n",
    "        plt.text(i,j,format(cm[j,i],'.2f'),\n",
    "                horizontalalignment = \"center\",\n",
    "                color = \"white\" if cm[j,i]<0.6 else \"black\",\n",
    "                size = 15)\n",
    "    tick_marks = np.arange(4)\n",
    "    classes = ['CTRL','MSA','PD','PSP']\n",
    "    plt.xticks(tick_marks,classes,rotation = 45,size = 15)\n",
    "    plt.yticks(tick_marks,classes,size = 15)\n",
    "    plt.ylabel('True label',size = 15)\n",
    "    plt.xlabel('\\nPredicted label',size = 15)\n",
    "    plt.style.use(['tableau-colorblind10'])\n",
    "    plt.title('Confusion matrix\\n', size = 17)\n",
    "    plt.show()\n",
    "    return"
   ]
  },
  {
   "cell_type": "code",
   "execution_count": 41,
   "metadata": {},
   "outputs": [
    {
     "data": {
      "image/png": "[encoded data removed]",
      "text/plain": [
       "<Figure size 720x720 with 2 Axes>"
      ]
     },
     "metadata": {},
     "output_type": "display_data"
    }
   ],
   "source": [
    "cm = confuseMat(Xtest,Ytest,model)\n",
    "plotConfMat(cm)"
   ]
  },
  {
   "cell_type": "code",
   "execution_count": 7,
   "metadata": {},
   "outputs": [],
   "source": [
    "# samples = [1,2,20,50,54,55,84,95,102,111]"
   ]
  },
  {
   "cell_type": "code",
   "execution_count": 8,
   "metadata": {},
   "outputs": [],
   "source": [
    "# get the diagnosis\n",
    "# for i in samples:\n",
    "#     e = predictSignal(Xtest[i],Ytest[i],model,verbose=0)"
   ]
  },
  {
   "cell_type": "code",
   "execution_count": null,
   "metadata": {},
   "outputs": [],
   "source": []
  }
 ],
 "metadata": {
  "kernelspec": {
   "display_name": "Python 3",
   "language": "python",
   "name": "python3"
  },
  "language_info": {
   "codemirror_mode": {
    "name": "ipython",
    "version": 3
   },
   "file_extension": ".py",
   "mimetype": "text/x-python",
   "name": "python",
   "nbconvert_exporter": "python",
   "pygments_lexer": "ipython3",
   "version": "3.6.5"
  }
 },
 "nbformat": 4,
 "nbformat_minor": 2
}
