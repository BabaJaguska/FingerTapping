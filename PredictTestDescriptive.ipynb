{
 "cells": [
  {
   "cell_type": "markdown",
   "metadata": {},
   "source": [
    "## FINGER TAPPING ANALYSIS\n",
    "##### Data collected from patients with neurodegenerative disorders as well as healthy controls"
   ]
  },
  {
   "cell_type": "code",
   "execution_count": 1,
   "metadata": {},
   "outputs": [
    {
     "name": "stderr",
     "output_type": "stream",
     "text": [
      "C:\\Users\\Korisnik\\Anaconda3\\lib\\site-packages\\h5py\\__init__.py:36: FutureWarning: Conversion of the second argument of issubdtype from `float` to `np.floating` is deprecated. In future, it will be treated as `np.float64 == np.dtype(float).type`.\n",
      "  from ._conv import register_converters as _register_converters\n",
      "Using TensorFlow backend.\n"
     ]
    }
   ],
   "source": [
    "import matplotlib.pyplot as plt\n",
    "import numpy as np\n",
    "import scipy.io\n",
    "import time\n",
    "import sys\n",
    "from tqdm import tqdm\n",
    "import os\n",
    "import pandas as pd\n",
    "import seaborn as sns\n",
    "sns.set(style=\"darkgrid\")\n",
    "import statsmodels.api as sm\n",
    "from statsmodels.formula.api import ols\n",
    "from scipy import stats\n",
    "import math\n",
    "from statsmodels.sandbox.stats.multicomp import multipletests\n",
    "from sklearn.preprocessing import LabelEncoder\n",
    "from sklearn.model_selection import train_test_split\n",
    "from sklearn.metrics import roc_curve\n",
    "import keras\n",
    "from keras.models import Model, load_model\n",
    "from keras.layers import Input, Conv1D, Flatten, Dropout, MaxPooling1D, Dense\n",
    "from keras.layers import Activation, BatchNormalization, concatenate\n",
    "from keras import optimizers\n",
    "from keras.callbacks import ModelCheckpoint, EarlyStopping\n",
    "%matplotlib inline"
   ]
  },
  {
   "cell_type": "code",
   "execution_count": 2,
   "metadata": {},
   "outputs": [],
   "source": [
    "# Read the data\n",
    "path = 'C:/Users/Korisnik/Desktop/Minjino/TAPPING/'\n",
    "test = scipy.io.loadmat(path + 'TestDataSingleCrop.mat')\n",
    "Xtest, Ytest = test['X'], test['Y']\n"
   ]
  },
  {
   "cell_type": "code",
   "execution_count": 3,
   "metadata": {},
   "outputs": [
    {
     "data": {
      "text/plain": [
       "((114, 2000, 6), (114, 4))"
      ]
     },
     "execution_count": 3,
     "metadata": {},
     "output_type": "execute_result"
    }
   ],
   "source": [
    "Xtest.shape, Ytest.shape"
   ]
  },
  {
   "cell_type": "markdown",
   "metadata": {},
   "source": [
    "### Model load"
   ]
  },
  {
   "cell_type": "code",
   "execution_count": 4,
   "metadata": {},
   "outputs": [],
   "source": [
    "model = load_model(path + 'my_model.h5')\n",
    "#model.summary()"
   ]
  },
  {
   "cell_type": "code",
   "execution_count": 5,
   "metadata": {},
   "outputs": [],
   "source": [
    "def predictSignal(signalX, signalY, model):\n",
    "    signalX = np.expand_dims(signalX,axis=0)\n",
    "    prediction = model.predict(signalX)\n",
    "    prediction = prediction[0]\n",
    "    prediction = np.round(np.float64(prediction),2)\n",
    "    \n",
    "    d = {0: 'CTRL',\n",
    "        1: 'MSA',\n",
    "        2: 'PD',\n",
    "        3: 'PSP'}\n",
    "    \n",
    "    \n",
    "\n",
    "    actualDiagnosis = d[np.argmax(signalY)]\n",
    "    predictedDiagnosis = d[np.argmax(prediction)]\n",
    "    \n",
    "    print('predictedDiagnosis: ',predictedDiagnosis)\n",
    "   \n",
    "    print('actualDiagnosis: ', actualDiagnosis)\n",
    "    \n",
    "    print('Certainty: \\nCTRL: {} \\nMSA: {} \\nPD: {} \\nPSP: {}'.format(prediction[0],\n",
    "                                                                      prediction[1],\n",
    "                                                                      prediction[2],\n",
    "                                                                      prediction[3]))\n",
    "    print('#################################################')\n",
    "   \n",
    "    \n",
    "    return"
   ]
  },
  {
   "cell_type": "markdown",
   "metadata": {},
   "source": [
    "### Type the indexes of files you want to assess (Between 0 and 113)"
   ]
  },
  {
   "cell_type": "code",
   "execution_count": 6,
   "metadata": {},
   "outputs": [],
   "source": [
    "samples = [1,2,20,50,54,55,84,95,102,111]"
   ]
  },
  {
   "cell_type": "code",
   "execution_count": 7,
   "metadata": {},
   "outputs": [
    {
     "name": "stdout",
     "output_type": "stream",
     "text": [
      "predictedDiagnosis:  CTRL\n",
      "actualDiagnosis:  CTRL\n",
      "Certainty: \n",
      "CTRL: 0.98 \n",
      "MSA: 0.01 \n",
      "PD: 0.01 \n",
      "PSP: 0.0\n",
      "#################################################\n",
      "predictedDiagnosis:  CTRL\n",
      "actualDiagnosis:  CTRL\n",
      "Certainty: \n",
      "CTRL: 1.0 \n",
      "MSA: 0.0 \n",
      "PD: 0.0 \n",
      "PSP: 0.0\n",
      "#################################################\n",
      "predictedDiagnosis:  CTRL\n",
      "actualDiagnosis:  CTRL\n",
      "Certainty: \n",
      "CTRL: 1.0 \n",
      "MSA: 0.0 \n",
      "PD: 0.0 \n",
      "PSP: 0.0\n",
      "#################################################\n",
      "predictedDiagnosis:  PSP\n",
      "actualDiagnosis:  MSA\n",
      "Certainty: \n",
      "CTRL: 0.0 \n",
      "MSA: 0.0 \n",
      "PD: 0.0 \n",
      "PSP: 1.0\n",
      "#################################################\n",
      "predictedDiagnosis:  PD\n",
      "actualDiagnosis:  PD\n",
      "Certainty: \n",
      "CTRL: 0.0 \n",
      "MSA: 0.0 \n",
      "PD: 1.0 \n",
      "PSP: 0.0\n",
      "#################################################\n",
      "predictedDiagnosis:  PD\n",
      "actualDiagnosis:  PD\n",
      "Certainty: \n",
      "CTRL: 0.0 \n",
      "MSA: 0.0 \n",
      "PD: 1.0 \n",
      "PSP: 0.0\n",
      "#################################################\n",
      "predictedDiagnosis:  PSP\n",
      "actualDiagnosis:  PSP\n",
      "Certainty: \n",
      "CTRL: 0.0 \n",
      "MSA: 0.0 \n",
      "PD: 0.0 \n",
      "PSP: 1.0\n",
      "#################################################\n",
      "predictedDiagnosis:  PSP\n",
      "actualDiagnosis:  PSP\n",
      "Certainty: \n",
      "CTRL: 0.0 \n",
      "MSA: 0.0 \n",
      "PD: 0.0 \n",
      "PSP: 1.0\n",
      "#################################################\n",
      "predictedDiagnosis:  PSP\n",
      "actualDiagnosis:  PSP\n",
      "Certainty: \n",
      "CTRL: 0.0 \n",
      "MSA: 0.0 \n",
      "PD: 0.0 \n",
      "PSP: 1.0\n",
      "#################################################\n",
      "predictedDiagnosis:  MSA\n",
      "actualDiagnosis:  PSP\n",
      "Certainty: \n",
      "CTRL: 0.0 \n",
      "MSA: 0.54 \n",
      "PD: 0.0 \n",
      "PSP: 0.46\n",
      "#################################################\n"
     ]
    }
   ],
   "source": [
    "# get the diagnosis\n",
    "\n",
    "for i in samples:\n",
    "    predictSignal(Xtest[i],Ytest[i],model)"
   ]
  },
  {
   "cell_type": "code",
   "execution_count": null,
   "metadata": {},
   "outputs": [],
   "source": []
  }
 ],
 "metadata": {
  "kernelspec": {
   "display_name": "Python 3",
   "language": "python",
   "name": "python3"
  },
  "language_info": {
   "codemirror_mode": {
    "name": "ipython",
    "version": 3
   },
   "file_extension": ".py",
   "mimetype": "text/x-python",
   "name": "python",
   "nbconvert_exporter": "python",
   "pygments_lexer": "ipython3",
   "version": "3.6.5"
  }
 },
 "nbformat": 4,
 "nbformat_minor": 2
}
