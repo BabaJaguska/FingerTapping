{
 "cells": [
  {
   "cell_type": "markdown",
   "metadata": {},
   "source": [
    "## FINGER TAPPING ANALYSIS\n",
    "##### Data collected from patients with neurodegenerative disorders as well as healthy controls"
   ]
  },
  {
   "cell_type": "code",
   "execution_count": 1,
   "metadata": {},
   "outputs": [
    {
     "name": "stderr",
     "output_type": "stream",
     "text": [
      "C:\\Users\\Korisnik\\Anaconda3\\lib\\site-packages\\h5py\\__init__.py:36: FutureWarning: Conversion of the second argument of issubdtype from `float` to `np.floating` is deprecated. In future, it will be treated as `np.float64 == np.dtype(float).type`.\n",
      "  from ._conv import register_converters as _register_converters\n",
      "Using TensorFlow backend.\n"
     ]
    }
   ],
   "source": [
    "import matplotlib.pyplot as plt\n",
    "import numpy as np\n",
    "import scipy.io\n",
    "import time\n",
    "import sys\n",
    "from tqdm import tqdm\n",
    "import os\n",
    "import pandas as pd\n",
    "import seaborn as sns\n",
    "import itertools\n",
    "import statsmodels.api as sm\n",
    "from statsmodels.formula.api import ols\n",
    "from scipy import stats\n",
    "import math\n",
    "from statsmodels.sandbox.stats.multicomp import multipletests\n",
    "from sklearn.preprocessing import LabelEncoder\n",
    "from sklearn.model_selection import train_test_split\n",
    "from sklearn.metrics import confusion_matrix\n",
    "import keras\n",
    "from keras.models import Model, load_model\n",
    "from keras.layers import Input, Conv1D, Flatten, Dropout, MaxPooling1D, Dense\n",
    "from keras.layers import Activation, BatchNormalization, concatenate\n",
    "from keras import optimizers\n",
    "from keras.callbacks import ModelCheckpoint, EarlyStopping\n",
    "%matplotlib inline"
   ]
  },
  {
   "cell_type": "code",
   "execution_count": 24,
   "metadata": {},
   "outputs": [],
   "source": [
    "# Read the data\n",
    "path = 'C:/Users/Korisnik/Desktop/Minjino/TAPPING/'\n",
    "# test = scipy.io.loadmat(path + 'TestDataSingleCrop.mat')\n",
    "\n",
    "#test = scipy.io.loadmat(path + 'TestDataSingleCrop.mat')\n",
    "test = scipy.io.loadmat(path + 'ValData.mat')\n",
    "Xtest, Ytest = test['X'], test['Y']"
   ]
  },
  {
   "cell_type": "code",
   "execution_count": 25,
   "metadata": {},
   "outputs": [
    {
     "data": {
      "text/plain": [
       "((432, 1800, 6), (432, 4))"
      ]
     },
     "execution_count": 25,
     "metadata": {},
     "output_type": "execute_result"
    }
   ],
   "source": [
    "Xtest.shape, Ytest.shape"
   ]
  },
  {
   "cell_type": "markdown",
   "metadata": {},
   "source": [
    "### Model load"
   ]
  },
  {
   "cell_type": "code",
   "execution_count": 4,
   "metadata": {
    "scrolled": false
   },
   "outputs": [
    {
     "name": "stdout",
     "output_type": "stream",
     "text": [
      "_________________________________________________________________\n",
      "Layer (type)                 Output Shape              Param #   \n",
      "=================================================================\n",
      "input_2 (InputLayer)         (None, 1800, 6)           0         \n",
      "_________________________________________________________________\n",
      "Conv1x500 (Conv1D)           (None, 1800, 32)          1760      \n",
      "_________________________________________________________________\n",
      "ReLu00 (Activation)          (None, 1800, 32)          0         \n",
      "_________________________________________________________________\n",
      "batch_normalization_14 (Batc (None, 1800, 32)          128       \n",
      "_________________________________________________________________\n",
      "Conv1x501 (Conv1D)           (None, 1800, 32)          9248      \n",
      "_________________________________________________________________\n",
      "ReLu01 (Activation)          (None, 1800, 32)          0         \n",
      "_________________________________________________________________\n",
      "batch_normalization_15 (Batc (None, 1800, 32)          128       \n",
      "_________________________________________________________________\n",
      "MaxPooling1D0 (MaxPooling1D) (None, 1800, 32)          0         \n",
      "_________________________________________________________________\n",
      "Conv1x510 (Conv1D)           (None, 1800, 64)          18496     \n",
      "_________________________________________________________________\n",
      "ReLu10 (Activation)          (None, 1800, 64)          0         \n",
      "_________________________________________________________________\n",
      "batch_normalization_16 (Batc (None, 1800, 64)          256       \n",
      "_________________________________________________________________\n",
      "Conv1x511 (Conv1D)           (None, 1800, 64)          36928     \n",
      "_________________________________________________________________\n",
      "ReLu11 (Activation)          (None, 1800, 64)          0         \n",
      "_________________________________________________________________\n",
      "batch_normalization_17 (Batc (None, 1800, 64)          256       \n",
      "_________________________________________________________________\n",
      "MaxPooling1D1 (MaxPooling1D) (None, 1800, 64)          0         \n",
      "_________________________________________________________________\n",
      "Conv1x520 (Conv1D)           (None, 1800, 128)         73856     \n",
      "_________________________________________________________________\n",
      "ReLu20 (Activation)          (None, 1800, 128)         0         \n",
      "_________________________________________________________________\n",
      "batch_normalization_18 (Batc (None, 1800, 128)         512       \n",
      "_________________________________________________________________\n",
      "Conv1x521 (Conv1D)           (None, 1800, 128)         147584    \n",
      "_________________________________________________________________\n",
      "ReLu21 (Activation)          (None, 1800, 128)         0         \n",
      "_________________________________________________________________\n",
      "batch_normalization_19 (Batc (None, 1800, 128)         512       \n",
      "_________________________________________________________________\n",
      "Conv1x522 (Conv1D)           (None, 1800, 128)         147584    \n",
      "_________________________________________________________________\n",
      "ReLu22 (Activation)          (None, 1800, 128)         0         \n",
      "_________________________________________________________________\n",
      "batch_normalization_20 (Batc (None, 1800, 128)         512       \n",
      "_________________________________________________________________\n",
      "MaxPooling1D2 (MaxPooling1D) (None, 1800, 128)         0         \n",
      "_________________________________________________________________\n",
      "Conv1x530 (Conv1D)           (None, 1800, 128)         147584    \n",
      "_________________________________________________________________\n",
      "ReLu30 (Activation)          (None, 1800, 128)         0         \n",
      "_________________________________________________________________\n",
      "batch_normalization_21 (Batc (None, 1800, 128)         512       \n",
      "_________________________________________________________________\n",
      "Conv1x531 (Conv1D)           (None, 1800, 128)         147584    \n",
      "_________________________________________________________________\n",
      "ReLu31 (Activation)          (None, 1800, 128)         0         \n",
      "_________________________________________________________________\n",
      "batch_normalization_22 (Batc (None, 1800, 128)         512       \n",
      "_________________________________________________________________\n",
      "Conv1x532 (Conv1D)           (None, 1800, 128)         147584    \n",
      "_________________________________________________________________\n",
      "ReLu32 (Activation)          (None, 1800, 128)         0         \n",
      "_________________________________________________________________\n",
      "batch_normalization_23 (Batc (None, 1800, 128)         512       \n",
      "_________________________________________________________________\n",
      "MaxPooling1D3 (MaxPooling1D) (None, 1800, 128)         0         \n",
      "_________________________________________________________________\n",
      "Conv1x540 (Conv1D)           (None, 1800, 128)         147584    \n",
      "_________________________________________________________________\n",
      "ReLu40 (Activation)          (None, 1800, 128)         0         \n",
      "_________________________________________________________________\n",
      "batch_normalization_24 (Batc (None, 1800, 128)         512       \n",
      "_________________________________________________________________\n",
      "Conv1x541 (Conv1D)           (None, 1800, 128)         147584    \n",
      "_________________________________________________________________\n",
      "ReLu41 (Activation)          (None, 1800, 128)         0         \n",
      "_________________________________________________________________\n",
      "batch_normalization_25 (Batc (None, 1800, 128)         512       \n",
      "_________________________________________________________________\n",
      "Conv1x542 (Conv1D)           (None, 1800, 128)         147584    \n",
      "_________________________________________________________________\n",
      "ReLu42 (Activation)          (None, 1800, 128)         0         \n",
      "_________________________________________________________________\n",
      "batch_normalization_26 (Batc (None, 1800, 128)         512       \n",
      "_________________________________________________________________\n",
      "MaxPooling1D4 (MaxPooling1D) (None, 1800, 128)         0         \n",
      "_________________________________________________________________\n",
      "dropout_3 (Dropout)          (None, 1800, 128)         0         \n",
      "_________________________________________________________________\n",
      "flatten_2 (Flatten)          (None, 230400)            0         \n",
      "_________________________________________________________________\n",
      "dense_3 (Dense)              (None, 128)               29491328  \n",
      "_________________________________________________________________\n",
      "reLU_dense (Activation)      (None, 128)               0         \n",
      "_________________________________________________________________\n",
      "dropout_4 (Dropout)          (None, 128)               0         \n",
      "_________________________________________________________________\n",
      "dense_4 (Dense)              (None, 4)                 516       \n",
      "_________________________________________________________________\n",
      "Softmax (Activation)         (None, 4)                 0         \n",
      "=================================================================\n",
      "Total params: 30,818,180\n",
      "Trainable params: 30,815,492\n",
      "Non-trainable params: 2,688\n",
      "_________________________________________________________________\n"
     ]
    }
   ],
   "source": [
    "model = load_model(path + 'MODELCNN16Batch9s9KERNEL9CEO.h5')\n",
    "model.load_weights(path+'!BEST_WEIGHTSCNN16Batch9s9KERNEL9.10.10.2018.9.20.h5')\n",
    "model.summary()"
   ]
  },
  {
   "cell_type": "code",
   "execution_count": 5,
   "metadata": {},
   "outputs": [],
   "source": [
    "def predictSignal(signalX, signalY, model, verbose = 1):\n",
    "    signalX = np.expand_dims(signalX,axis=0)\n",
    "    prediction = model.predict(signalX)\n",
    "    prediction = prediction[0]\n",
    "    prediction = np.round(np.float64(prediction),2)\n",
    "    \n",
    "    d = {0: 'CTRL',\n",
    "        1: 'MSA',\n",
    "        2: 'PD',\n",
    "        3: 'PSP'}\n",
    "    \n",
    "    \n",
    "\n",
    "    actualDiagnosis = d[np.argmax(signalY)]\n",
    "    predictedDiagnosis = d[np.argmax(prediction)]\n",
    "    \n",
    "    if verbose:\n",
    "        print('predictedDiagnosis: ',predictedDiagnosis)\n",
    "        print('actualDiagnosis: ', actualDiagnosis)\n",
    "        print('Certainty: \\nCTRL: {} \\nMSA: {} \\nPD: {} \\nPSP: {}'.format(prediction[0],\n",
    "                                                                      prediction[1],\n",
    "                                                                      prediction[2],\n",
    "                                                                      prediction[3]))\n",
    "        print('#################################################')\n",
    "   \n",
    "    \n",
    "    return {\"Predicted\": predictedDiagnosis, \"Actual\": actualDiagnosis}"
   ]
  },
  {
   "cell_type": "code",
   "execution_count": 21,
   "metadata": {},
   "outputs": [],
   "source": [
    "def confuseMat(Xtest, Ytest,model):\n",
    "    p, a = [], []\n",
    "    for X,Y in zip(Xtest,Ytest):\n",
    "        temp = predictSignal(X,Y,model,verbose=0)\n",
    "        p.append(temp['Predicted'])\n",
    "        a.append(temp['Actual'])\n",
    "    confMat = confusion_matrix(p,a)\n",
    "    print(confMat)\n",
    "    confMatPerc = confMat.astype('float')/confMat.sum(axis=1)\n",
    "    return [confMat,confMatPerc]\n",
    "    "
   ]
  },
  {
   "cell_type": "code",
   "execution_count": 22,
   "metadata": {},
   "outputs": [],
   "source": [
    "def plotConfMat(cm,cmPerc):\n",
    "    plt.figure(figsize = (10,10))\n",
    "    plt.imshow(cmPerc)\n",
    "    plt.colorbar()\n",
    "    for i,j in itertools.product(range(4),range(4)):\n",
    "        plt.text(i,j,format(cm[j,i],'d'),\n",
    "                horizontalalignment = \"center\",\n",
    "                color = \"white\" if cmPerc[j,i]<0.6 else \"black\",\n",
    "                size = 15)\n",
    "    tick_marks = np.arange(4)\n",
    "    classes = ['CTRL','MSA','PD','PSP']\n",
    "    plt.xticks(tick_marks,classes,rotation = 45,size = 15)\n",
    "    plt.yticks(tick_marks,classes,size = 15)\n",
    "    plt.ylabel('True label',size = 15)\n",
    "    plt.xlabel('\\nPredicted label',size = 15)\n",
    "    plt.style.use(['tableau-colorblind10'])\n",
    "    plt.title('Confusion matrix\\n', size = 17)\n",
    "    plt.show()\n",
    "    return"
   ]
  },
  {
   "cell_type": "code",
   "execution_count": 26,
   "metadata": {},
   "outputs": [
    {
     "name": "stdout",
     "output_type": "stream",
     "text": [
      "[[ 75   0   0   1]\n",
      " [  1 100   0   1]\n",
      " [  8   1 106   0]\n",
      " [  0  11   0 128]]\n"
     ]
    },
    {
     "data": {
      "image/png": "[encoded data removed]",
      "text/plain": [
       "<Figure size 720x720 with 2 Axes>"
      ]
     },
     "metadata": {},
     "output_type": "display_data"
    }
   ],
   "source": [
    "cm, cmPerc = confuseMat(Xtest,Ytest,model)\n",
    "plotConfMat(cm,cmPerc)"
   ]
  },
  {
   "cell_type": "code",
   "execution_count": 9,
   "metadata": {},
   "outputs": [],
   "source": [
    "# samples = [1,2,20,50,54,55,84,95,102,111]"
   ]
  },
  {
   "cell_type": "code",
   "execution_count": 10,
   "metadata": {},
   "outputs": [],
   "source": [
    "# get the diagnosis\n",
    "# for i in samples:\n",
    "#     e = predictSignal(Xtest[i],Ytest[i],model,verbose=0)"
   ]
  },
  {
   "cell_type": "code",
   "execution_count": null,
   "metadata": {},
   "outputs": [],
   "source": []
  }
 ],
 "metadata": {
  "kernelspec": {
   "display_name": "Python 3",
   "language": "python",
   "name": "python3"
  },
  "language_info": {
   "codemirror_mode": {
    "name": "ipython",
    "version": 3
   },
   "file_extension": ".py",
   "mimetype": "text/x-python",
   "name": "python",
   "nbconvert_exporter": "python",
   "pygments_lexer": "ipython3",
   "version": "3.6.5"
  }
 },
 "nbformat": 4,
 "nbformat_minor": 2
}
